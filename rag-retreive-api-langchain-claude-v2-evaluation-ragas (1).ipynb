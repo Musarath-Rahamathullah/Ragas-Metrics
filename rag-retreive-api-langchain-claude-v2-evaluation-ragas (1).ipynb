{
 "cells": [
  {
   "cell_type": "markdown",
   "metadata": {},
   "source": [
    "# Building and evaluating Q&A Application using Knowledge Bases for Amazon Bedrock using RAG Assessment (RAGAS) framework"
   ]
  },
  {
   "cell_type": "markdown",
   "metadata": {},
   "source": [
    "### Context\n",
    "\n",
    "In this notebook, we will dive deep into building Q&A application using Retrieve API provide by Knowledge Bases for Amazon Bedrock, along with LangChain and RAGAS for evaluating the responses. Here, we will query the knowledge base to get the desired number of document chunks based on similarity search, prompt the query using Anthropic Claude, and then evaluate the responses effectively using Ragas evaluation metrics, such as faithfulness, answer relevancy, context precision based expectations.\n",
    "\n",
    "### Knowledge Bases for Amazon Bedrock Introduction\n",
    "\n",
    "With knowledge bases, you can securely connect foundation models (FMs) in Amazon Bedrock to your company\n",
    "data for Retrieval Augmented Generation (RAG). Access to additional data helps the model generate more relevant,\n",
    "context-speciﬁc, and accurate responses without continuously retraining the FM. All information retrieved from\n",
    "knowledge bases comes with source attribution to improve transparency and minimize hallucinations. For more information on creating a knowledge base using console, please refer to this [post](!https://docs.aws.amazon.com/bedrock/latest/userguide/knowledge-base.html).\n",
    "\n",
    "### Pattern\n",
    "\n",
    "We can implement the solution using Retreival Augmented Generation (RAG) pattern. RAG retrieves data from outside the language model (non-parametric) and augments the prompts by adding the relevant retrieved data in context. Here, we are performing RAG effectively on the knowledge base created in the previous notebook or using console. \n",
    "\n",
    "### Pre-requisite\n",
    "\n",
    "Before being able to answer the questions, the documents must be processed and stored in Knowledge Bases for Amazon Bedrock.\n",
    "\n",
    "1. Load the documents into the knowledge base by connecting your s3 bucket (data source). \n",
    "2. Ingestion - Knowledge base will split them into smaller chunks (based on the strategy selected), generate embeddings and store it in the associated vectore store.\n",
    "\n",
    "![data_ingestion.png](./images/data_ingestion.png)\n",
    "\n",
    "\n",
    "#### Notebook Walkthrough\n",
    "\n",
    "\n",
    "\n",
    "For our notebook we will use the `Retreive API` provided by Knowledge Bases for Amazon Bedrock which converts user queries into\n",
    "embeddings, searches the knowledge base, and returns the relevant results, giving you more control to build custom\n",
    "workﬂows on top of the semantic search results. The output of the `Retrieve API` includes the the `retrieved text chunks`, the `location type` and `URI` of the source data, as well as the relevance `scores` of the retrievals. \n",
    "\n",
    "\n",
    "We will then use the text chunks being generated and augment it with the original prompt and pass it through the `anthropic.claude-instant-v1` model using prompt engineering patterns based for your use case.\n",
    "\n",
    "Finally we will evaluate the generated responses using RAGAS on using metrics such as faithfulness, answer relevancy,and context precision. For evaluation, we will use `anthropic.claude-v2:1`.\n",
    "### Ask question\n",
    "\n",
    "\n",
    "![retrieveapi.png](./images/retrieveAPI.png)\n",
    "\n",
    "\n",
    "#### Evaluation\n",
    "1. Utilize Ragas for evaluation on \n",
    "    1. **Faithfulness:** This measures the factual consistency of the generated answer against the given context. It is calculated from answer and retrieved context. The answer is scaled to (0,1) range. Higher the better.\n",
    "    2. **Answer Relevancy:** The evaluation metric, Answer Relevancy, focuses on assessing how pertinent the generated answer is to the given prompt. A lower score is assigned to answers that are incomplete or contain redundant information. This metric is computed using the question and the answer, with values ranging between 0 and 1, where higher scores indicate better relevancy.\n",
    "    3. **Context Precision:** Context Precision is a metric that evaluates whether all of the ground-truth relevant items present in the contexts are ranked higher or not. Ideally all the relevant chunks must appear at the top ranks. This metric is computed using the question and the contexts, with values ranging between 0 and 1, where higher scores indicate better precision.\n",
    "    4. **Context Recall:** Context recall measures the extent to which the retrieved context aligns with the annotated answer, treated as the ground truth. It is computed based on the ground truth and the retrieved context, and the values range between 0 and 1, with higher values indicating better performance.\n",
    "    \n",
    "\n",
    "### USE CASE:\n",
    "\n",
    "#### Dataset\n",
    "\n",
    "In this example, you will use several years of Amazon's Letter to Shareholders as a text corpus to perform Q&A on. This data is already ingested into the knowledge base. You will need the `knowledge base id` to run this example.\n",
    "In your specific use case, you can sync different files for different domain topics and query this notebook in the same manner to evaluate model responses using the retrieve API from knowledge bases.\n",
    "\n",
    "\n",
    "### Python 3.10\n",
    "\n",
    "⚠  For this lab we need to run the notebook based on a Python 3.10 runtime. ⚠\n",
    "\n",
    "### Setup\n",
    "\n",
    "To run this notebook you would need to install dependencies, langchain and ragas and the updated boto3, botocore whls.\n"
   ]
  },
  {
   "cell_type": "code",
   "execution_count": 5,
   "metadata": {
    "collapsed": true,
    "jupyter": {
     "outputs_hidden": true
    },
    "tags": []
   },
   "outputs": [
    {
     "name": "stdout",
     "output_type": "stream",
     "text": [
      "Requirement already satisfied: pip in /opt/conda/lib/python3.10/site-packages (24.0)\n",
      "\u001b[33mWARNING: Running pip as the 'root' user can result in broken permissions and conflicting behaviour with the system package manager. It is recommended to use a virtual environment instead: https://pip.pypa.io/warnings/venv\u001b[0m\u001b[33m\n",
      "\u001b[0mNote: you may need to restart the kernel to use updated packages.\n",
      "\u001b[31mERROR: pip's dependency resolver does not currently take into account all the packages that are installed. This behaviour is the source of the following dependency conflicts.\n",
      "spyder 5.3.3 requires pyqt5<5.16, which is not installed.\n",
      "spyder 5.3.3 requires pyqtwebengine<5.16, which is not installed.\n",
      "awscli 1.31.9 requires botocore==1.33.9, but you have botocore 1.33.13 which is incompatible.\n",
      "distributed 2022.7.0 requires tornado<6.2,>=6.0.3, but you have tornado 6.4 which is incompatible.\n",
      "jupyterlab 3.4.4 requires jupyter-server~=1.16, but you have jupyter-server 2.12.1 which is incompatible.\n",
      "jupyterlab-server 2.10.3 requires jupyter-server~=1.4, but you have jupyter-server 2.12.1 which is incompatible.\n",
      "notebook 6.5.6 requires jupyter-client<8,>=5.3.4, but you have jupyter-client 8.6.0 which is incompatible.\n",
      "notebook 6.5.6 requires pyzmq<25,>=17, but you have pyzmq 25.1.2 which is incompatible.\n",
      "panel 0.13.1 requires bokeh<2.5.0,>=2.4.0, but you have bokeh 3.3.2 which is incompatible.\n",
      "sagemaker 2.199.0 requires boto3<2.0,>=1.33.3, but you have boto3 1.33.2 which is incompatible.\n",
      "sagemaker 2.199.0 requires urllib3<1.27, but you have urllib3 2.0.7 which is incompatible.\n",
      "sagemaker-datawrangler 0.4.3 requires sagemaker-data-insights==0.4.0, but you have sagemaker-data-insights 0.3.3 which is incompatible.\n",
      "sparkmagic 0.20.4 requires nest-asyncio==1.5.5, but you have nest-asyncio 1.6.0 which is incompatible.\n",
      "spyder 5.3.3 requires ipython<8.0.0,>=7.31.1, but you have ipython 8.18.1 which is incompatible.\n",
      "spyder 5.3.3 requires pylint<3.0,>=2.5.0, but you have pylint 3.0.2 which is incompatible.\n",
      "spyder-kernels 2.3.3 requires ipython<8,>=7.31.1; python_version >= \"3\", but you have ipython 8.18.1 which is incompatible.\n",
      "spyder-kernels 2.3.3 requires jupyter-client<8,>=7.3.4; python_version >= \"3\", but you have jupyter-client 8.6.0 which is incompatible.\u001b[0m\u001b[31m\n",
      "\u001b[0m\u001b[33mWARNING: Running pip as the 'root' user can result in broken permissions and conflicting behaviour with the system package manager. It is recommended to use a virtual environment instead: https://pip.pypa.io/warnings/venv\u001b[0m\u001b[33m\n",
      "\u001b[0mNote: you may need to restart the kernel to use updated packages.\n",
      "\u001b[31mERROR: pip's dependency resolver does not currently take into account all the packages that are installed. This behaviour is the source of the following dependency conflicts.\n",
      "spyder 5.3.3 requires pyqt5<5.16, which is not installed.\n",
      "spyder 5.3.3 requires pyqtwebengine<5.16, which is not installed.\n",
      "awscli 1.31.9 requires botocore==1.33.9, but you have botocore 1.33.2 which is incompatible.\n",
      "distributed 2022.7.0 requires tornado<6.2,>=6.0.3, but you have tornado 6.4 which is incompatible.\n",
      "jupyterlab 3.4.4 requires jupyter-server~=1.16, but you have jupyter-server 2.12.1 which is incompatible.\n",
      "jupyterlab-server 2.10.3 requires jupyter-server~=1.4, but you have jupyter-server 2.12.1 which is incompatible.\n",
      "notebook 6.5.6 requires jupyter-client<8,>=5.3.4, but you have jupyter-client 8.6.0 which is incompatible.\n",
      "notebook 6.5.6 requires pyzmq<25,>=17, but you have pyzmq 25.1.2 which is incompatible.\n",
      "panel 0.13.1 requires bokeh<2.5.0,>=2.4.0, but you have bokeh 3.3.2 which is incompatible.\n",
      "sagemaker 2.199.0 requires boto3<2.0,>=1.33.3, but you have boto3 1.33.2 which is incompatible.\n",
      "sagemaker 2.199.0 requires urllib3<1.27, but you have urllib3 2.0.7 which is incompatible.\n",
      "sagemaker-datawrangler 0.4.3 requires sagemaker-data-insights==0.4.0, but you have sagemaker-data-insights 0.3.3 which is incompatible.\n",
      "sparkmagic 0.20.4 requires nest-asyncio==1.5.5, but you have nest-asyncio 1.6.0 which is incompatible.\n",
      "spyder 5.3.3 requires ipython<8.0.0,>=7.31.1, but you have ipython 8.18.1 which is incompatible.\n",
      "spyder 5.3.3 requires pylint<3.0,>=2.5.0, but you have pylint 3.0.2 which is incompatible.\n",
      "spyder-kernels 2.3.3 requires ipython<8,>=7.31.1; python_version >= \"3\", but you have ipython 8.18.1 which is incompatible.\n",
      "spyder-kernels 2.3.3 requires jupyter-client<8,>=7.3.4; python_version >= \"3\", but you have jupyter-client 8.6.0 which is incompatible.\u001b[0m\u001b[31m\n",
      "\u001b[0m\u001b[33mWARNING: Running pip as the 'root' user can result in broken permissions and conflicting behaviour with the system package manager. It is recommended to use a virtual environment instead: https://pip.pypa.io/warnings/venv\u001b[0m\u001b[33m\n",
      "\u001b[0mNote: you may need to restart the kernel to use updated packages.\n",
      "\u001b[31mERROR: pip's dependency resolver does not currently take into account all the packages that are installed. This behaviour is the source of the following dependency conflicts.\n",
      "daal4py 2021.6.0 requires daal==2021.4.0, which is not installed.\n",
      "spyder 5.3.3 requires pyqt5<5.16, which is not installed.\n",
      "spyder 5.3.3 requires pyqtwebengine<5.16, which is not installed.\n",
      "awscli 1.31.9 requires botocore==1.33.9, but you have botocore 1.33.2 which is incompatible.\n",
      "botocore 1.33.2 requires urllib3<2.1,>=1.25.4; python_version >= \"3.10\", but you have urllib3 2.2.1 which is incompatible.\n",
      "distributed 2022.7.0 requires tornado<6.2,>=6.0.3, but you have tornado 6.4 which is incompatible.\n",
      "fastapi 0.95.2 requires pydantic!=1.7,!=1.7.1,!=1.7.2,!=1.7.3,!=1.8,!=1.8.1,<2.0.0,>=1.6.2, but you have pydantic 2.6.3 which is incompatible.\n",
      "jupyterlab 3.4.4 requires jupyter-server~=1.16, but you have jupyter-server 2.12.1 which is incompatible.\n",
      "jupyterlab-server 2.10.3 requires jupyter-server~=1.4, but you have jupyter-server 2.12.1 which is incompatible.\n",
      "langchain-community 0.0.26 requires langchain-core<0.2.0,>=0.1.29, but you have langchain-core 0.0.13 which is incompatible.\n",
      "langchain-community 0.0.26 requires langsmith<0.2.0,>=0.1.0, but you have langsmith 0.0.92 which is incompatible.\n",
      "langchain-text-splitters 0.0.1 requires langchain-core<0.2.0,>=0.1.28, but you have langchain-core 0.0.13 which is incompatible.\n",
      "notebook 6.5.6 requires jupyter-client<8,>=5.3.4, but you have jupyter-client 8.6.0 which is incompatible.\n",
      "notebook 6.5.6 requires pyzmq<25,>=17, but you have pyzmq 25.1.2 which is incompatible.\n",
      "numba 0.55.1 requires numpy<1.22,>=1.18, but you have numpy 1.26.4 which is incompatible.\n",
      "panel 0.13.1 requires bokeh<2.5.0,>=2.4.0, but you have bokeh 3.3.2 which is incompatible.\n",
      "sagemaker 2.199.0 requires boto3<2.0,>=1.33.3, but you have boto3 1.33.2 which is incompatible.\n",
      "sagemaker 2.199.0 requires urllib3<1.27, but you have urllib3 2.2.1 which is incompatible.\n",
      "sagemaker-datawrangler 0.4.3 requires sagemaker-data-insights==0.4.0, but you have sagemaker-data-insights 0.3.3 which is incompatible.\n",
      "sparkmagic 0.20.4 requires nest-asyncio==1.5.5, but you have nest-asyncio 1.6.0 which is incompatible.\n",
      "spyder 5.3.3 requires ipython<8.0.0,>=7.31.1, but you have ipython 8.18.1 which is incompatible.\n",
      "spyder 5.3.3 requires pylint<3.0,>=2.5.0, but you have pylint 3.0.2 which is incompatible.\n",
      "spyder-kernels 2.3.3 requires ipython<8,>=7.31.1; python_version >= \"3\", but you have ipython 8.18.1 which is incompatible.\n",
      "spyder-kernels 2.3.3 requires jupyter-client<8,>=7.3.4; python_version >= \"3\", but you have jupyter-client 8.6.0 which is incompatible.\u001b[0m\u001b[31m\n",
      "\u001b[0m\u001b[33mWARNING: Running pip as the 'root' user can result in broken permissions and conflicting behaviour with the system package manager. It is recommended to use a virtual environment instead: https://pip.pypa.io/warnings/venv\u001b[0m\u001b[33m\n",
      "\u001b[0mNote: you may need to restart the kernel to use updated packages.\n",
      "\u001b[31mERROR: pip's dependency resolver does not currently take into account all the packages that are installed. This behaviour is the source of the following dependency conflicts.\n",
      "daal4py 2021.6.0 requires daal==2021.4.0, which is not installed.\n",
      "spyder 5.3.3 requires pyqt5<5.16, which is not installed.\n",
      "spyder 5.3.3 requires pyqtwebengine<5.16, which is not installed.\n",
      "awscli 1.31.9 requires botocore==1.33.9, but you have botocore 1.33.2 which is incompatible.\n",
      "botocore 1.33.2 requires urllib3<2.1,>=1.25.4; python_version >= \"3.10\", but you have urllib3 2.2.1 which is incompatible.\n",
      "distributed 2022.7.0 requires tornado<6.2,>=6.0.3, but you have tornado 6.4 which is incompatible.\n",
      "fastapi 0.95.2 requires pydantic!=1.7,!=1.7.1,!=1.7.2,!=1.7.3,!=1.8,!=1.8.1,<2.0.0,>=1.6.2, but you have pydantic 2.6.3 which is incompatible.\n",
      "jupyterlab 3.4.4 requires jupyter-server~=1.16, but you have jupyter-server 2.12.1 which is incompatible.\n",
      "jupyterlab-server 2.10.3 requires jupyter-server~=1.4, but you have jupyter-server 2.12.1 which is incompatible.\n",
      "notebook 6.5.6 requires jupyter-client<8,>=5.3.4, but you have jupyter-client 8.6.0 which is incompatible.\n",
      "notebook 6.5.6 requires pyzmq<25,>=17, but you have pyzmq 25.1.2 which is incompatible.\n",
      "numba 0.55.1 requires numpy<1.22,>=1.18, but you have numpy 1.26.4 which is incompatible.\n",
      "panel 0.13.1 requires bokeh<2.5.0,>=2.4.0, but you have bokeh 3.3.2 which is incompatible.\n",
      "sagemaker 2.199.0 requires boto3<2.0,>=1.33.3, but you have boto3 1.33.2 which is incompatible.\n",
      "sagemaker 2.199.0 requires urllib3<1.27, but you have urllib3 2.2.1 which is incompatible.\n",
      "sagemaker-datawrangler 0.4.3 requires sagemaker-data-insights==0.4.0, but you have sagemaker-data-insights 0.3.3 which is incompatible.\n",
      "sparkmagic 0.20.4 requires nest-asyncio==1.5.5, but you have nest-asyncio 1.6.0 which is incompatible.\n",
      "spyder 5.3.3 requires ipython<8.0.0,>=7.31.1, but you have ipython 8.18.1 which is incompatible.\n",
      "spyder 5.3.3 requires pylint<3.0,>=2.5.0, but you have pylint 3.0.2 which is incompatible.\n",
      "spyder-kernels 2.3.3 requires ipython<8,>=7.31.1; python_version >= \"3\", but you have ipython 8.18.1 which is incompatible.\n",
      "spyder-kernels 2.3.3 requires jupyter-client<8,>=7.3.4; python_version >= \"3\", but you have jupyter-client 8.6.0 which is incompatible.\u001b[0m\u001b[31m\n",
      "\u001b[0m\u001b[33mWARNING: Running pip as the 'root' user can result in broken permissions and conflicting behaviour with the system package manager. It is recommended to use a virtual environment instead: https://pip.pypa.io/warnings/venv\u001b[0m\u001b[33m\n",
      "\u001b[0mNote: you may need to restart the kernel to use updated packages.\n"
     ]
    }
   ],
   "source": [
    "%pip install --upgrade pip\n",
    "%pip install boto3==1.33.2 --force-reinstall --quiet\n",
    "%pip install botocore==1.33.2 --force-reinstall --quiet\n",
    "%pip install langchain==0.0.342 --force-reinstall --quiet\n",
    "%pip install ragas==0.0.20 --force-reinstall --quiet"
   ]
  },
  {
   "cell_type": "markdown",
   "metadata": {},
   "source": [
    "#### Restart the kernel with the updated packages that are installed through the dependencies above"
   ]
  },
  {
   "cell_type": "code",
   "execution_count": 6,
   "metadata": {
    "tags": []
   },
   "outputs": [
    {
     "data": {
      "text/html": [
       "<script>Jupyter.notebook.kernel.restart()</script>"
      ],
      "text/plain": [
       "<IPython.core.display.HTML object>"
      ]
     },
     "execution_count": 6,
     "metadata": {},
     "output_type": "execute_result"
    }
   ],
   "source": [
    "# restart kernel\n",
    "from IPython.core.display import HTML\n",
    "HTML(\"<script>Jupyter.notebook.kernel.restart()</script>\")"
   ]
  },
  {
   "cell_type": "markdown",
   "metadata": {
    "tags": []
   },
   "source": [
    "## Data Preparation\n",
    "Let's first download some of the files to build our document store. For this example we will be using public IRS documents from [here](https://www.irs.gov/publications)."
   ]
  },
  {
   "cell_type": "code",
   "execution_count": 16,
   "metadata": {
    "tags": []
   },
   "outputs": [],
   "source": [
    "from urllib.request import urlretrieve\n",
    "import os\n",
    "os.makedirs(\"data\", exist_ok=True)\n",
    "files = [\n",
    "    \"https://www.irs.gov/pub/irs-pdf/p1544.pdf\",\n",
    "    \"https://www.irs.gov/pub/irs-pdf/p15.pdf\",\n",
    "    \"https://www.irs.gov/pub/irs-pdf/p1212.pdf\",\n",
    "]\n",
    "for url in files:\n",
    "    file_path = os.path.join(\"data\", url.rpartition(\"/\")[2])\n",
    "    urlretrieve(url, file_path)"
   ]
  },
  {
   "cell_type": "markdown",
   "metadata": {},
   "source": [
    "## Create a KnowledgeBase\n",
    "Using the data downloaded, create a KB in Amazon Bedrock and copy the KnowledgeID.[link](https://docs.aws.amazon.com/bedrock/latest/userguide/knowledge-base-create.html)."
   ]
  },
  {
   "cell_type": "markdown",
   "metadata": {
    "tags": []
   },
   "source": [
    "### Follow the steps below to set up necessary packages\n",
    "\n",
    "1. Import the necessary libraries for creating `bedrock-runtime` for invoking foundation models and `bedrock-agent-runtime` client for using Retrieve API provided by Knowledge Bases for Amazon Bedrock. \n",
    "2. Import Langchain for: \n",
    "   1. Initializing bedrock model  `anthropic.claude-instant-v1` as our large language model to perform query completions using the RAG pattern. \n",
    "   2. Initializing bedrock model  `anthropic.claude-v2:1` as our large language model to perform RAG evaluation. \n",
    "   3. Initialize Langchain retriever integrated with knowledge bases. \n",
    "   4. Later in the notebook we will wrap the LLM and retriever with `RetrieverQAChain` for building our Q&A application."
   ]
  },
  {
   "cell_type": "code",
   "execution_count": 7,
   "metadata": {
    "tags": []
   },
   "outputs": [],
   "source": [
    "import boto3\n",
    "import pprint\n",
    "from botocore.client import Config\n",
    "from langchain.llms.bedrock import Bedrock\n",
    "from langchain.embeddings import BedrockEmbeddings\n",
    "from langchain.retrievers.bedrock import AmazonKnowledgeBasesRetriever\n",
    "\n",
    "pp = pprint.PrettyPrinter(indent=2)\n",
    "\n",
    "kb_id = \"UDDPZH86JK\" # replace it with your Knowledge base id.\n",
    "\n",
    "\n",
    "bedrock_config = Config(connect_timeout=120, read_timeout=120, retries={'max_attempts': 0})\n",
    "bedrock_client = boto3.client('bedrock-runtime')\n",
    "bedrock_agent_client = boto3.client(\"bedrock-agent-runtime\",\n",
    "                              config=bedrock_config\n",
    "                              )\n",
    "\n",
    "model_kwargs_claude = {\n",
    "    \"temperature\": 0,\n",
    "    \"top_k\": 10,\n",
    "    \"max_tokens_to_sample\": 3000\n",
    "}\n",
    "\n",
    "llm_for_text_generation = Bedrock(model_id=\"anthropic.claude-instant-v1\",\n",
    "              model_kwargs=model_kwargs_claude,\n",
    "              streaming=True,\n",
    "              client = bedrock_client,)\n",
    "\n",
    "llm_for_evaluation = Bedrock(model_id=\"anthropic.claude-v2:1\",\n",
    "              model_kwargs=model_kwargs_claude,\n",
    "              streaming=True,\n",
    "              client = bedrock_client,)\n",
    "\n",
    "bedrock_embeddings = BedrockEmbeddings(model_id=\"amazon.titan-embed-text-v1\",client=bedrock_client)"
   ]
  },
  {
   "cell_type": "markdown",
   "metadata": {},
   "source": [
    "### Retrieve API: Process flow \n",
    "\n",
    "Create a `AmazonKnowledgeBasesRetriever` object from LangChain which will call the `Retreive API` provided by Knowledge Bases for Amazon Bedrock which converts user queries into\n",
    "embeddings, searches the knowledge base, and returns the relevant results, giving you more control to build custom\n",
    "workﬂows on top of the semantic search results. The output of the `Retrieve API` includes the the `retrieved text chunks`, the `location type` and `URI` of the source data, as well as the relevance `scores` of the retrievals. "
   ]
  },
  {
   "cell_type": "code",
   "execution_count": 8,
   "metadata": {
    "tags": []
   },
   "outputs": [],
   "source": [
    "\n",
    "retriever = AmazonKnowledgeBasesRetriever(\n",
    "        knowledge_base_id=kb_id,\n",
    "        retrieval_config={\"vectorSearchConfiguration\": {\"numberOfResults\": 4}},\n",
    "        # endpoint_url=endpoint_url,\n",
    "        # region_name=\"us-east-1\",\n",
    "        # credentials_profile_name=\"<profile_name>\",\n",
    "    )"
   ]
  },
  {
   "cell_type": "markdown",
   "metadata": {
    "tags": []
   },
   "source": [
    "`score`: You can view the associated score of each of the text chunk that was returned which depicts its correlation to the query in terms of how closely it matches it."
   ]
  },
  {
   "cell_type": "markdown",
   "metadata": {},
   "source": [
    "### Prompt specific to the model to personalize responses \n",
    "\n",
    "Here, we will use the specific prompt below for the model to act as a financial advisor AI system that will provide answers to questions by using fact based and statistical information when possible. We will provide the `Retrieve API` responses from above as a part of the `{context}` in the prompt for the model to refer to, along with the user `query`.  "
   ]
  },
  {
   "cell_type": "code",
   "execution_count": 9,
   "metadata": {
    "tags": []
   },
   "outputs": [],
   "source": [
    "from langchain.prompts import ChatPromptTemplate\n",
    "from langchain.schema.runnable import RunnablePassthrough\n",
    "from langchain.schema.output_parser import StrOutputParser\n",
    "\n",
    "PROMPT_TEMPLATE = \"\"\"\n",
    "        Human: You are Claims assistant with access to various company claims rejection and reasons\n",
    "        <context>\n",
    "        {context}\n",
    "        </context>\n",
    "\n",
    "        <question>\n",
    "        {question}\n",
    "        </question>\n",
    "        The response is accurate and doesn’t contain any information not directly supported by the \n",
    "                    {context}, don't hallucinate.\n",
    "        Assistant:\"\"\"\n",
    "\n",
    "prompt = ChatPromptTemplate.from_template(PROMPT_TEMPLATE)\n",
    "\n",
    "# Setup RAG pipeline\n",
    "rag_chain = (\n",
    "    {\"context\": retriever,  \"question\": RunnablePassthrough()} \n",
    "    | prompt \n",
    "    | llm_for_text_generation\n",
    "    | StrOutputParser() \n",
    ")"
   ]
  },
  {
   "cell_type": "markdown",
   "metadata": {},
   "source": [
    "## Preparing the Evaluation Data\n",
    "\n",
    "As RAGAS aims to be a reference-free evaluation framework, the required preparations of the evaluation dataset are minimal. You will need to prepare `question` and `ground_truths` pairs from which you can prepare the remaining information through inference as shown below. If you are not interested in the `context_recall` metric, you don’t need to provide the `ground_truths` information. In this case, all you need to prepare are the `questions`."
   ]
  },
  {
   "cell_type": "code",
   "execution_count": 10,
   "metadata": {
    "tags": []
   },
   "outputs": [
    {
     "name": "stderr",
     "output_type": "stream",
     "text": [
      "/opt/conda/lib/python3.10/site-packages/pandas/core/computation/expressions.py:21: UserWarning: Pandas requires version '2.8.4' or newer of 'numexpr' (version '2.8.3' currently installed).\n",
      "  from pandas.core.computation.check import NUMEXPR_INSTALLED\n",
      "/opt/conda/lib/python3.10/site-packages/pandas/core/arrays/masked.py:60: UserWarning: Pandas requires version '1.3.6' or newer of 'bottleneck' (version '1.3.5' currently installed).\n",
      "  from pandas.core import (\n",
      "/opt/conda/lib/python3.10/site-packages/langchain_community/llms/bedrock.py:67: UserWarning: Error: Prompt must alternate between '\n",
      "\n",
      "Human:' and '\n",
      "\n",
      "Assistant:'. Received \n",
      "\n",
      "Human: \n",
      "        \n",
      "\n",
      "Human: You are Claims assistant with access to various company claims rejection and reasons\n",
      "        <context>\n",
      "        [Document(page_content='If the claim continues to reject, make sure the DUR Conflict codes have not changed or a new  Conflict code has been added. (For example: DD DD TD on the first rejection and the latest  rejection shows DD DD TD DC.) If DUR overrides transmitting (can be found in TP Detail>  Claim Detail> Segment 8) match all DUR Conflict codes being received, refer the pharmacy to  contact the insurance for additional information on what DUR codes they are looking for.    For additional questions or information contact Computer-Rx Customer Support at (800) 647- 5288.', metadata={'location': {'type': 'S3', 's3Location': {'uri': 's3://sagemaker-us-west-2-329494863578/llm-kgnraham/outcomes/Rejection-Code-88-new.pdf'}}, 'score': 0.6818726}), Document(page_content='Rejection\\tCode\\t22\\t This article is a guide to assist in the resolution of third party rejection code 22.    Rejection: Code 22    Message: M/I Dispense As Written (DAW)/ Product Selection Code     Field D8    WinRx defaults to DAW of 0-Not Specified. To resolve, go to Edit Rx> TP Detail>  Claim Detail> Segment 7 and verify the Dispense As Written (Field D8). To change  the DAW, go to the Edit Rx screen. Resend to the insurance after correction.         If the DAW is correct in the edit screen, verify it is setup properly in the Drug F5  Screen> Pricing tab. Then, resend the prescription to insurance.', metadata={'location': {'type': 'S3', 's3Location': {'uri': 's3://sagemaker-us-west-2-329494863578/llm-kgnraham/outcomes/Rejection-Code-22-new.pdf'}}, 'score': 0.67822486}), Document(page_content='Rejection\\tCode\\t12\\t Updated 1 year ago  FollowNot yet followed by anyone    This article is a guide to assist in the resolution of third party rejection code 12.    Rejection: Code 12    Message: M/I Place of Service              Field C7    Code C7 means that the claim is rejecting because the place of service is invalid or not sending.  The place of service is set on the Patient F4 screen> Insurance tab> Place of Service (C7)  field.             To resolve: verify the correct place of service is selected. Then, go to Cardholder Information>  Edit Co> Claim Sending Setup> Segment 1> Make sure the \"Do Not Send Place of Service\"  option is not checked. (If checked, the place of service field will not send on the claim).                    If the reject 12 continues after verifying that the correct Place of Service is transmitting, refer the  pharmacy to call insurance.', metadata={'location': {'type': 'S3', 's3Location': {'uri': 's3://sagemaker-us-west-2-329494863578/llm-kgnraham/outcomes/Rejection-Code-12-New.pdf'}}, 'score': 0.6602345}), Document(page_content='Rejection\\tCode\\t88\\t This article is a guide to assist in the resolution of third party rejection code 88.    Rejection: Code 88    Message: DUR Reject Error             Fields D1, D7    Code 88 means that DUR override codes are needed or additional DUR override codes are  necessary.          Question: How do you send a DUR override?    HELP: If a plan rejects for a DUR (such as DD above), a DUR override will need to be sent.  This can be done within Edit F11> TP Resend> DUR. Any DUR Conflict codes that the  insurance rejected for (DD in screenshot above) will automatically populate the first line in the  DUR tab. The pharmacy must then populate the Intervention Code, Outcome Code, and Level of  Effort. If there were multiple DUR Conflict Codes in the rejection, the same number of  DUR tabs will need to be populated with overrides - regardless of if they are  duplicates. (For example: DD DD TD DD - then 4 DUR tabs will need to be populated.)                     If the claim continues to reject, make sure the DUR Conflict codes have not changed or a new  Conflict code has been added. (For example: DD DD TD on the first rejection and the latest  rejection shows DD DD TD DC.)', metadata={'location': {'type': 'S3', 's3Location': {'uri': 's3://sagemaker-us-west-2-329494863578/llm-kgnraham/outcomes/Rejection-Code-88-new.pdf'}}, 'score': 0.65816116})]\n",
      "        </context>\n",
      "\n",
      "        <question>\n",
      "        Give me the reason and resolution for my claims rejection 22?\n",
      "        </question>\n",
      "        The response is accurate and doesn’t contain any information not directly supported by the \n",
      "                    [Document(page_content='If the claim continues to reject, make sure the DUR Conflict codes have not changed or a new  Conflict code has been added. (For example: DD DD TD on the first rejection and the latest  rejection shows DD DD TD DC.) If DUR overrides transmitting (can be found in TP Detail>  Claim Detail> Segment 8) match all DUR Conflict codes being received, refer the pharmacy to  contact the insurance for additional information on what DUR codes they are looking for.    For additional questions or information contact Computer-Rx Customer Support at (800) 647- 5288.', metadata={'location': {'type': 'S3', 's3Location': {'uri': 's3://sagemaker-us-west-2-329494863578/llm-kgnraham/outcomes/Rejection-Code-88-new.pdf'}}, 'score': 0.6818726}), Document(page_content='Rejection\\tCode\\t22\\t This article is a guide to assist in the resolution of third party rejection code 22.    Rejection: Code 22    Message: M/I Dispense As Written (DAW)/ Product Selection Code     Field D8    WinRx defaults to DAW of 0-Not Specified. To resolve, go to Edit Rx> TP Detail>  Claim Detail> Segment 7 and verify the Dispense As Written (Field D8). To change  the DAW, go to the Edit Rx screen. Resend to the insurance after correction.         If the DAW is correct in the edit screen, verify it is setup properly in the Drug F5  Screen> Pricing tab. Then, resend the prescription to insurance.', metadata={'location': {'type': 'S3', 's3Location': {'uri': 's3://sagemaker-us-west-2-329494863578/llm-kgnraham/outcomes/Rejection-Code-22-new.pdf'}}, 'score': 0.67822486}), Document(page_content='Rejection\\tCode\\t12\\t Updated 1 year ago  FollowNot yet followed by anyone    This article is a guide to assist in the resolution of third party rejection code 12.    Rejection: Code 12    Message: M/I Place of Service              Field C7    Code C7 means that the claim is rejecting because the place of service is invalid or not sending.  The place of service is set on the Patient F4 screen> Insurance tab> Place of Service (C7)  field.             To resolve: verify the correct place of service is selected. Then, go to Cardholder Information>  Edit Co> Claim Sending Setup> Segment 1> Make sure the \"Do Not Send Place of Service\"  option is not checked. (If checked, the place of service field will not send on the claim).                    If the reject 12 continues after verifying that the correct Place of Service is transmitting, refer the  pharmacy to call insurance.', metadata={'location': {'type': 'S3', 's3Location': {'uri': 's3://sagemaker-us-west-2-329494863578/llm-kgnraham/outcomes/Rejection-Code-12-New.pdf'}}, 'score': 0.6602345}), Document(page_content='Rejection\\tCode\\t88\\t This article is a guide to assist in the resolution of third party rejection code 88.    Rejection: Code 88    Message: DUR Reject Error             Fields D1, D7    Code 88 means that DUR override codes are needed or additional DUR override codes are  necessary.          Question: How do you send a DUR override?    HELP: If a plan rejects for a DUR (such as DD above), a DUR override will need to be sent.  This can be done within Edit F11> TP Resend> DUR. Any DUR Conflict codes that the  insurance rejected for (DD in screenshot above) will automatically populate the first line in the  DUR tab. The pharmacy must then populate the Intervention Code, Outcome Code, and Level of  Effort. If there were multiple DUR Conflict Codes in the rejection, the same number of  DUR tabs will need to be populated with overrides - regardless of if they are  duplicates. (For example: DD DD TD DD - then 4 DUR tabs will need to be populated.)                     If the claim continues to reject, make sure the DUR Conflict codes have not changed or a new  Conflict code has been added. (For example: DD DD TD on the first rejection and the latest  rejection shows DD DD TD DC.)', metadata={'location': {'type': 'S3', 's3Location': {'uri': 's3://sagemaker-us-west-2-329494863578/llm-kgnraham/outcomes/Rejection-Code-88-new.pdf'}}, 'score': 0.65816116})], don't hallucinate.\n",
      "        \n",
      "\n",
      "Assistant:\n",
      "  warnings.warn(ALTERNATION_ERROR + f\" Received {input_text}\")\n",
      "/opt/conda/lib/python3.10/site-packages/langchain_community/llms/bedrock.py:67: UserWarning: Error: Prompt must alternate between '\n",
      "\n",
      "Human:' and '\n",
      "\n",
      "Assistant:'. Received \n",
      "\n",
      "Human: \n",
      "        \n",
      "\n",
      "Human: You are Claims assistant with access to various company claims rejection and reasons\n",
      "        <context>\n",
      "        [Document(page_content='Rejection\\tCode\\t88\\t This article is a guide to assist in the resolution of third party rejection code 88.    Rejection: Code 88    Message: DUR Reject Error             Fields D1, D7    Code 88 means that DUR override codes are needed or additional DUR override codes are  necessary.          Question: How do you send a DUR override?    HELP: If a plan rejects for a DUR (such as DD above), a DUR override will need to be sent.  This can be done within Edit F11> TP Resend> DUR. Any DUR Conflict codes that the  insurance rejected for (DD in screenshot above) will automatically populate the first line in the  DUR tab. The pharmacy must then populate the Intervention Code, Outcome Code, and Level of  Effort. If there were multiple DUR Conflict Codes in the rejection, the same number of  DUR tabs will need to be populated with overrides - regardless of if they are  duplicates. (For example: DD DD TD DD - then 4 DUR tabs will need to be populated.)                     If the claim continues to reject, make sure the DUR Conflict codes have not changed or a new  Conflict code has been added. (For example: DD DD TD on the first rejection and the latest  rejection shows DD DD TD DC.)', metadata={'location': {'type': 'S3', 's3Location': {'uri': 's3://sagemaker-us-west-2-329494863578/llm-kgnraham/outcomes/Rejection-Code-88-new.pdf'}}, 'score': 0.75370485}), Document(page_content='If the claim continues to reject, make sure the DUR Conflict codes have not changed or a new  Conflict code has been added. (For example: DD DD TD on the first rejection and the latest  rejection shows DD DD TD DC.) If DUR overrides transmitting (can be found in TP Detail>  Claim Detail> Segment 8) match all DUR Conflict codes being received, refer the pharmacy to  contact the insurance for additional information on what DUR codes they are looking for.    For additional questions or information contact Computer-Rx Customer Support at (800) 647- 5288.', metadata={'location': {'type': 'S3', 's3Location': {'uri': 's3://sagemaker-us-west-2-329494863578/llm-kgnraham/outcomes/Rejection-Code-88-new.pdf'}}, 'score': 0.71900445}), Document(page_content='Rejection\\tCode\\t12\\t Updated 1 year ago  FollowNot yet followed by anyone    This article is a guide to assist in the resolution of third party rejection code 12.    Rejection: Code 12    Message: M/I Place of Service              Field C7    Code C7 means that the claim is rejecting because the place of service is invalid or not sending.  The place of service is set on the Patient F4 screen> Insurance tab> Place of Service (C7)  field.             To resolve: verify the correct place of service is selected. Then, go to Cardholder Information>  Edit Co> Claim Sending Setup> Segment 1> Make sure the \"Do Not Send Place of Service\"  option is not checked. (If checked, the place of service field will not send on the claim).                    If the reject 12 continues after verifying that the correct Place of Service is transmitting, refer the  pharmacy to call insurance.', metadata={'location': {'type': 'S3', 's3Location': {'uri': 's3://sagemaker-us-west-2-329494863578/llm-kgnraham/outcomes/Rejection-Code-12-New.pdf'}}, 'score': 0.71320003}), Document(page_content='Rejection\\tCode\\t22\\t This article is a guide to assist in the resolution of third party rejection code 22.    Rejection: Code 22    Message: M/I Dispense As Written (DAW)/ Product Selection Code     Field D8    WinRx defaults to DAW of 0-Not Specified. To resolve, go to Edit Rx> TP Detail>  Claim Detail> Segment 7 and verify the Dispense As Written (Field D8). To change  the DAW, go to the Edit Rx screen. Resend to the insurance after correction.         If the DAW is correct in the edit screen, verify it is setup properly in the Drug F5  Screen> Pricing tab. Then, resend the prescription to insurance.', metadata={'location': {'type': 'S3', 's3Location': {'uri': 's3://sagemaker-us-west-2-329494863578/llm-kgnraham/outcomes/Rejection-Code-22-new.pdf'}}, 'score': 0.70500225})]\n",
      "        </context>\n",
      "\n",
      "        <question>\n",
      "        What's the reason and resolution recommended for Claim rejection code 88?\n",
      "        </question>\n",
      "        The response is accurate and doesn’t contain any information not directly supported by the \n",
      "                    [Document(page_content='Rejection\\tCode\\t88\\t This article is a guide to assist in the resolution of third party rejection code 88.    Rejection: Code 88    Message: DUR Reject Error             Fields D1, D7    Code 88 means that DUR override codes are needed or additional DUR override codes are  necessary.          Question: How do you send a DUR override?    HELP: If a plan rejects for a DUR (such as DD above), a DUR override will need to be sent.  This can be done within Edit F11> TP Resend> DUR. Any DUR Conflict codes that the  insurance rejected for (DD in screenshot above) will automatically populate the first line in the  DUR tab. The pharmacy must then populate the Intervention Code, Outcome Code, and Level of  Effort. If there were multiple DUR Conflict Codes in the rejection, the same number of  DUR tabs will need to be populated with overrides - regardless of if they are  duplicates. (For example: DD DD TD DD - then 4 DUR tabs will need to be populated.)                     If the claim continues to reject, make sure the DUR Conflict codes have not changed or a new  Conflict code has been added. (For example: DD DD TD on the first rejection and the latest  rejection shows DD DD TD DC.)', metadata={'location': {'type': 'S3', 's3Location': {'uri': 's3://sagemaker-us-west-2-329494863578/llm-kgnraham/outcomes/Rejection-Code-88-new.pdf'}}, 'score': 0.75370485}), Document(page_content='If the claim continues to reject, make sure the DUR Conflict codes have not changed or a new  Conflict code has been added. (For example: DD DD TD on the first rejection and the latest  rejection shows DD DD TD DC.) If DUR overrides transmitting (can be found in TP Detail>  Claim Detail> Segment 8) match all DUR Conflict codes being received, refer the pharmacy to  contact the insurance for additional information on what DUR codes they are looking for.    For additional questions or information contact Computer-Rx Customer Support at (800) 647- 5288.', metadata={'location': {'type': 'S3', 's3Location': {'uri': 's3://sagemaker-us-west-2-329494863578/llm-kgnraham/outcomes/Rejection-Code-88-new.pdf'}}, 'score': 0.71900445}), Document(page_content='Rejection\\tCode\\t12\\t Updated 1 year ago  FollowNot yet followed by anyone    This article is a guide to assist in the resolution of third party rejection code 12.    Rejection: Code 12    Message: M/I Place of Service              Field C7    Code C7 means that the claim is rejecting because the place of service is invalid or not sending.  The place of service is set on the Patient F4 screen> Insurance tab> Place of Service (C7)  field.             To resolve: verify the correct place of service is selected. Then, go to Cardholder Information>  Edit Co> Claim Sending Setup> Segment 1> Make sure the \"Do Not Send Place of Service\"  option is not checked. (If checked, the place of service field will not send on the claim).                    If the reject 12 continues after verifying that the correct Place of Service is transmitting, refer the  pharmacy to call insurance.', metadata={'location': {'type': 'S3', 's3Location': {'uri': 's3://sagemaker-us-west-2-329494863578/llm-kgnraham/outcomes/Rejection-Code-12-New.pdf'}}, 'score': 0.71320003}), Document(page_content='Rejection\\tCode\\t22\\t This article is a guide to assist in the resolution of third party rejection code 22.    Rejection: Code 22    Message: M/I Dispense As Written (DAW)/ Product Selection Code     Field D8    WinRx defaults to DAW of 0-Not Specified. To resolve, go to Edit Rx> TP Detail>  Claim Detail> Segment 7 and verify the Dispense As Written (Field D8). To change  the DAW, go to the Edit Rx screen. Resend to the insurance after correction.         If the DAW is correct in the edit screen, verify it is setup properly in the Drug F5  Screen> Pricing tab. Then, resend the prescription to insurance.', metadata={'location': {'type': 'S3', 's3Location': {'uri': 's3://sagemaker-us-west-2-329494863578/llm-kgnraham/outcomes/Rejection-Code-22-new.pdf'}}, 'score': 0.70500225})], don't hallucinate.\n",
      "        \n",
      "\n",
      "Assistant:\n",
      "  warnings.warn(ALTERNATION_ERROR + f\" Received {input_text}\")\n",
      "/opt/conda/lib/python3.10/site-packages/langchain_community/llms/bedrock.py:67: UserWarning: Error: Prompt must alternate between '\n",
      "\n",
      "Human:' and '\n",
      "\n",
      "Assistant:'. Received \n",
      "\n",
      "Human: \n",
      "        \n",
      "\n",
      "Human: You are Claims assistant with access to various company claims rejection and reasons\n",
      "        <context>\n",
      "        [Document(page_content='Rejection\\tCode\\t12\\t Updated 1 year ago  FollowNot yet followed by anyone    This article is a guide to assist in the resolution of third party rejection code 12.    Rejection: Code 12    Message: M/I Place of Service              Field C7    Code C7 means that the claim is rejecting because the place of service is invalid or not sending.  The place of service is set on the Patient F4 screen> Insurance tab> Place of Service (C7)  field.             To resolve: verify the correct place of service is selected. Then, go to Cardholder Information>  Edit Co> Claim Sending Setup> Segment 1> Make sure the \"Do Not Send Place of Service\"  option is not checked. (If checked, the place of service field will not send on the claim).                    If the reject 12 continues after verifying that the correct Place of Service is transmitting, refer the  pharmacy to call insurance.', metadata={'location': {'type': 'S3', 's3Location': {'uri': 's3://sagemaker-us-west-2-329494863578/llm-kgnraham/outcomes/Rejection-Code-12-New.pdf'}}, 'score': 0.75257266}), Document(page_content='If the claim continues to reject, make sure the DUR Conflict codes have not changed or a new  Conflict code has been added. (For example: DD DD TD on the first rejection and the latest  rejection shows DD DD TD DC.) If DUR overrides transmitting (can be found in TP Detail>  Claim Detail> Segment 8) match all DUR Conflict codes being received, refer the pharmacy to  contact the insurance for additional information on what DUR codes they are looking for.    For additional questions or information contact Computer-Rx Customer Support at (800) 647- 5288.', metadata={'location': {'type': 'S3', 's3Location': {'uri': 's3://sagemaker-us-west-2-329494863578/llm-kgnraham/outcomes/Rejection-Code-88-new.pdf'}}, 'score': 0.7229177}), Document(page_content='Rejection\\tCode\\t88\\t This article is a guide to assist in the resolution of third party rejection code 88.    Rejection: Code 88    Message: DUR Reject Error             Fields D1, D7    Code 88 means that DUR override codes are needed or additional DUR override codes are  necessary.          Question: How do you send a DUR override?    HELP: If a plan rejects for a DUR (such as DD above), a DUR override will need to be sent.  This can be done within Edit F11> TP Resend> DUR. Any DUR Conflict codes that the  insurance rejected for (DD in screenshot above) will automatically populate the first line in the  DUR tab. The pharmacy must then populate the Intervention Code, Outcome Code, and Level of  Effort. If there were multiple DUR Conflict Codes in the rejection, the same number of  DUR tabs will need to be populated with overrides - regardless of if they are  duplicates. (For example: DD DD TD DD - then 4 DUR tabs will need to be populated.)                     If the claim continues to reject, make sure the DUR Conflict codes have not changed or a new  Conflict code has been added. (For example: DD DD TD on the first rejection and the latest  rejection shows DD DD TD DC.)', metadata={'location': {'type': 'S3', 's3Location': {'uri': 's3://sagemaker-us-west-2-329494863578/llm-kgnraham/outcomes/Rejection-Code-88-new.pdf'}}, 'score': 0.72107583}), Document(page_content='Rejection\\tCode\\t22\\t This article is a guide to assist in the resolution of third party rejection code 22.    Rejection: Code 22    Message: M/I Dispense As Written (DAW)/ Product Selection Code     Field D8    WinRx defaults to DAW of 0-Not Specified. To resolve, go to Edit Rx> TP Detail>  Claim Detail> Segment 7 and verify the Dispense As Written (Field D8). To change  the DAW, go to the Edit Rx screen. Resend to the insurance after correction.         If the DAW is correct in the edit screen, verify it is setup properly in the Drug F5  Screen> Pricing tab. Then, resend the prescription to insurance.', metadata={'location': {'type': 'S3', 's3Location': {'uri': 's3://sagemaker-us-west-2-329494863578/llm-kgnraham/outcomes/Rejection-Code-22-new.pdf'}}, 'score': 0.7196908})]\n",
      "        </context>\n",
      "\n",
      "        <question>\n",
      "        Explain about Claim Rejection code 12?\n",
      "        </question>\n",
      "        The response is accurate and doesn’t contain any information not directly supported by the \n",
      "                    [Document(page_content='Rejection\\tCode\\t12\\t Updated 1 year ago  FollowNot yet followed by anyone    This article is a guide to assist in the resolution of third party rejection code 12.    Rejection: Code 12    Message: M/I Place of Service              Field C7    Code C7 means that the claim is rejecting because the place of service is invalid or not sending.  The place of service is set on the Patient F4 screen> Insurance tab> Place of Service (C7)  field.             To resolve: verify the correct place of service is selected. Then, go to Cardholder Information>  Edit Co> Claim Sending Setup> Segment 1> Make sure the \"Do Not Send Place of Service\"  option is not checked. (If checked, the place of service field will not send on the claim).                    If the reject 12 continues after verifying that the correct Place of Service is transmitting, refer the  pharmacy to call insurance.', metadata={'location': {'type': 'S3', 's3Location': {'uri': 's3://sagemaker-us-west-2-329494863578/llm-kgnraham/outcomes/Rejection-Code-12-New.pdf'}}, 'score': 0.75257266}), Document(page_content='If the claim continues to reject, make sure the DUR Conflict codes have not changed or a new  Conflict code has been added. (For example: DD DD TD on the first rejection and the latest  rejection shows DD DD TD DC.) If DUR overrides transmitting (can be found in TP Detail>  Claim Detail> Segment 8) match all DUR Conflict codes being received, refer the pharmacy to  contact the insurance for additional information on what DUR codes they are looking for.    For additional questions or information contact Computer-Rx Customer Support at (800) 647- 5288.', metadata={'location': {'type': 'S3', 's3Location': {'uri': 's3://sagemaker-us-west-2-329494863578/llm-kgnraham/outcomes/Rejection-Code-88-new.pdf'}}, 'score': 0.7229177}), Document(page_content='Rejection\\tCode\\t88\\t This article is a guide to assist in the resolution of third party rejection code 88.    Rejection: Code 88    Message: DUR Reject Error             Fields D1, D7    Code 88 means that DUR override codes are needed or additional DUR override codes are  necessary.          Question: How do you send a DUR override?    HELP: If a plan rejects for a DUR (such as DD above), a DUR override will need to be sent.  This can be done within Edit F11> TP Resend> DUR. Any DUR Conflict codes that the  insurance rejected for (DD in screenshot above) will automatically populate the first line in the  DUR tab. The pharmacy must then populate the Intervention Code, Outcome Code, and Level of  Effort. If there were multiple DUR Conflict Codes in the rejection, the same number of  DUR tabs will need to be populated with overrides - regardless of if they are  duplicates. (For example: DD DD TD DD - then 4 DUR tabs will need to be populated.)                     If the claim continues to reject, make sure the DUR Conflict codes have not changed or a new  Conflict code has been added. (For example: DD DD TD on the first rejection and the latest  rejection shows DD DD TD DC.)', metadata={'location': {'type': 'S3', 's3Location': {'uri': 's3://sagemaker-us-west-2-329494863578/llm-kgnraham/outcomes/Rejection-Code-88-new.pdf'}}, 'score': 0.72107583}), Document(page_content='Rejection\\tCode\\t22\\t This article is a guide to assist in the resolution of third party rejection code 22.    Rejection: Code 22    Message: M/I Dispense As Written (DAW)/ Product Selection Code     Field D8    WinRx defaults to DAW of 0-Not Specified. To resolve, go to Edit Rx> TP Detail>  Claim Detail> Segment 7 and verify the Dispense As Written (Field D8). To change  the DAW, go to the Edit Rx screen. Resend to the insurance after correction.         If the DAW is correct in the edit screen, verify it is setup properly in the Drug F5  Screen> Pricing tab. Then, resend the prescription to insurance.', metadata={'location': {'type': 'S3', 's3Location': {'uri': 's3://sagemaker-us-west-2-329494863578/llm-kgnraham/outcomes/Rejection-Code-22-new.pdf'}}, 'score': 0.7196908})], don't hallucinate.\n",
      "        \n",
      "\n",
      "Assistant:\n",
      "  warnings.warn(ALTERNATION_ERROR + f\" Received {input_text}\")\n"
     ]
    }
   ],
   "source": [
    "from datasets import Dataset\n",
    "\n",
    "questions = [\"Give me the reason and resolution for my claims rejection 22?\", \n",
    "             \"What's the reason and resolution recommended for Claim rejection code 88?\",\n",
    "             \"Explain about Claim Rejection code 12?\",\n",
    "            ]\n",
    "ground_truths = [[\"M/I Dispense As Written (DAW)/ Product Selection Code-Field D8.To resolve, go to Edit Rx> TP Detail> Claim Detail> Segment 7 and verify the Dispense As Written (Field D8). To change the DAW, go to the Edit Rx screen.\"],\n",
    "                [\"DUR Reject Error Fields D1, D7.If a plan rejects for a DUR (such as DD above), a DUR override will need to be sent. This can be done within Edit F11> TP Resend> DUR. Any DUR Conflict codes that the insurance rejected for (DD in screenshot above) will automatically populate the first line in the DUR tab.The pharmacy must then populate the Intervention Code, Outcome Code, and Level of Effort. If there were multiple DUR Conflict Codes in the rejection, the same number of DUR tabs will need to be populated with overrides - regardless of if they are duplicates.\"],\n",
    "                [\"M/I Place of Service Field C7.Code C7 means that the claim is rejecting because the place of service is invalid or not sending. The place of service is set on the Patient F4 screen> Insurance tab> Place of Service (C7) field.\"]]\n",
    "\n",
    "answers = []\n",
    "contexts = []\n",
    "\n",
    "for query in questions:\n",
    "  answers.append(rag_chain.invoke(query))\n",
    "  contexts.append([docs.page_content for docs in retriever.get_relevant_documents(query)])\n",
    "\n",
    "# To dict\n",
    "data = {\n",
    "    \"question\": questions,\n",
    "    \"answer\": answers,\n",
    "    \"contexts\": contexts,\n",
    "    \"ground_truths\": ground_truths\n",
    "}\n",
    "\n",
    "# Convert dict to dataset\n",
    "dataset = Dataset.from_dict(data)"
   ]
  },
  {
   "cell_type": "markdown",
   "metadata": {},
   "source": [
    "## Evaluating the RAG application\n",
    "First, import all the metrics you want to use from `ragas.metrics`. Then, you can use the `evaluate()` function and simply pass in the relevant metrics and the prepared dataset."
   ]
  },
  {
   "cell_type": "code",
   "execution_count": 11,
   "metadata": {
    "collapsed": true,
    "jupyter": {
     "outputs_hidden": true
    },
    "tags": []
   },
   "outputs": [
    {
     "name": "stdout",
     "output_type": "stream",
     "text": [
      "evaluating with [faithfulness]\n"
     ]
    },
    {
     "name": "stderr",
     "output_type": "stream",
     "text": [
      "100%|██████████| 1/1 [00:40<00:00, 40.32s/it]\n"
     ]
    },
    {
     "name": "stdout",
     "output_type": "stream",
     "text": [
      "evaluating with [answer_relevancy]\n"
     ]
    },
    {
     "name": "stderr",
     "output_type": "stream",
     "text": [
      "100%|██████████| 1/1 [00:31<00:00, 31.59s/it]\n"
     ]
    },
    {
     "name": "stdout",
     "output_type": "stream",
     "text": [
      "evaluating with [context_precision]\n"
     ]
    },
    {
     "name": "stderr",
     "output_type": "stream",
     "text": [
      "100%|██████████| 1/1 [01:18<00:00, 78.88s/it]\n"
     ]
    },
    {
     "name": "stdout",
     "output_type": "stream",
     "text": [
      "evaluating with [context_recall]\n"
     ]
    },
    {
     "name": "stderr",
     "output_type": "stream",
     "text": [
      "100%|██████████| 1/1 [00:26<00:00, 26.71s/it]\n"
     ]
    }
   ],
   "source": [
    "from ragas import evaluate\n",
    "from ragas.metrics import (\n",
    "    faithfulness,\n",
    "    answer_relevancy,\n",
    "    context_recall,\n",
    "    context_precision,\n",
    ")\n",
    "from ragas.llms import LangchainLLM\n",
    "\n",
    "ragas_bedrock_model = LangchainLLM(llm_for_evaluation)\n",
    "\n",
    "#set embeddings model for evaluating answer relevancy metric\n",
    "answer_relevancy.embeddings = bedrock_embeddings\n",
    "\n",
    "#specify the metrics here\n",
    "metrics = [\n",
    "        faithfulness,\n",
    "        answer_relevancy,\n",
    "        context_precision,\n",
    "        context_recall\n",
    "    ]\n",
    "\n",
    "#set llm for metric evaluation\n",
    "for m in metrics:\n",
    "    m.__setattr__(\"llm\", ragas_bedrock_model)\n",
    "\n",
    "result = evaluate(\n",
    "    dataset = dataset, \n",
    "    metrics=metrics,\n",
    ")\n",
    "\n",
    "df = result.to_pandas()"
   ]
  },
  {
   "cell_type": "markdown",
   "metadata": {},
   "source": [
    "Below, you can see the resulting RAGAS scores for the examples:"
   ]
  },
  {
   "cell_type": "code",
   "execution_count": 12,
   "metadata": {
    "tags": []
   },
   "outputs": [
    {
     "data": {
      "text/html": [
       "<div>\n",
       "<style scoped>\n",
       "    .dataframe tbody tr th:only-of-type {\n",
       "        vertical-align: middle;\n",
       "    }\n",
       "\n",
       "    .dataframe tbody tr th {\n",
       "        vertical-align: top;\n",
       "    }\n",
       "\n",
       "    .dataframe thead th {\n",
       "        text-align: right;\n",
       "    }\n",
       "</style>\n",
       "<table border=\"1\" class=\"dataframe\">\n",
       "  <thead>\n",
       "    <tr style=\"text-align: right;\">\n",
       "      <th></th>\n",
       "      <th>question</th>\n",
       "      <th>contexts</th>\n",
       "      <th>answer</th>\n",
       "      <th>ground_truths</th>\n",
       "      <th>faithfulness</th>\n",
       "      <th>answer_relevancy</th>\n",
       "      <th>context_precision</th>\n",
       "      <th>context_recall</th>\n",
       "    </tr>\n",
       "  </thead>\n",
       "  <tbody>\n",
       "    <tr>\n",
       "      <th>0</th>\n",
       "      <td>Give me the reason and resolution for my claims rejection 22?</td>\n",
       "      <td>[If the claim continues to reject, make sure the DUR Conflict codes have not changed or a new  Conflict code has been added. (For example: DD DD TD on the first rejection and the latest  rejection shows DD DD TD DC.) If DUR overrides transmitting (can be found in TP Detail&gt;  Claim Detail&gt; Segment 8) match all DUR Conflict codes being received, refer the pharmacy to  contact the insurance for additional information on what DUR codes they are looking for.    For additional questions or information contact Computer-Rx Customer Support at (800) 647- 5288., Rejection\\tCode\\t22\\t This article is a guide to assist in the resolution of third party rejection code 22.    Rejection: Code 22    Message: M/I Dispense As Written (DAW)/ Product Selection Code     Field D8    WinRx defaults to DAW of ...</td>\n",
       "      <td>Rejection code 22 indicates an issue with the Dispense As Written (DAW) or Product Selection Code in field D8 of the claim. \\n\\nThe resolution is to:\\n\\n1. Go to Edit Rx &gt; TP Detail &gt; Claim Detail &gt; Segment 7 and verify the DAW is correct. \\n\\n2. If needed, change the DAW by going to the Edit Rx screen. \\n\\n3. Verify the DAW is set up properly in the Drug screen (F5 screen) Pricing tab.\\n\\n4. Resend the prescription to the insurance after making any corrections. \\n\\nIf the DAW is already correct, verify it is set up properly in the insurance claim sending setup. Then resend the claim to the insurance.</td>\n",
       "      <td>[M/I Dispense As Written (DAW)/ Product Selection Code-Field D8.To resolve, go to Edit Rx&gt; TP Detail&gt; Claim Detail&gt; Segment 7 and verify the Dispense As Written (Field D8). To change the DAW, go to the Edit Rx screen.]</td>\n",
       "      <td>1.0</td>\n",
       "      <td>0.587996</td>\n",
       "      <td>0.0</td>\n",
       "      <td>0.333333</td>\n",
       "    </tr>\n",
       "    <tr>\n",
       "      <th>1</th>\n",
       "      <td>What's the reason and resolution recommended for Claim rejection code 88?</td>\n",
       "      <td>[Rejection\\tCode\\t88\\t This article is a guide to assist in the resolution of third party rejection code 88.    Rejection: Code 88    Message: DUR Reject Error             Fields D1, D7    Code 88 means that DUR override codes are needed or additional DUR override codes are  necessary.          Question: How do you send a DUR override?    HELP: If a plan rejects for a DUR (such as DD above), a DUR override will need to be sent.  This can be done within Edit F11&gt; TP Resend&gt; DUR. Any DUR Conflict codes that the  insurance rejected for (DD in screenshot above) will automatically populate the first line in the  DUR tab. The pharmacy must then populate the Intervention Code, Outcome Code, and Level of  Effort. If there were multiple DUR Conflict Codes in the rejection, the same number of  D...</td>\n",
       "      <td>The reason for claim rejection code 88 is that DUR (Drug Utilization Review) override codes are needed or additional DUR override codes are necessary. \\n\\nThe resolution recommended is:\\n\\n1. Send a DUR override by going to Edit F11 &gt; TP Resend &gt; DUR. Any DUR Conflict codes that the insurance rejected will automatically populate in the DUR tab. \\n\\n2. Populate the Intervention Code, Outcome Code, and Level of Effort in the DUR tab. If there were multiple DUR Conflict Codes in the rejection, populate overrides in the same number of DUR tabs.\\n\\n3. Make sure the DUR Conflict codes have not changed or a new Conflict code has been added in subsequent rejections. \\n\\n4. If the claim continues to reject after sending DUR overrides, refer the pharmacy to contact the insurance for additional ...</td>\n",
       "      <td>[DUR Reject Error Fields D1, D7.If a plan rejects for a DUR (such as DD above), a DUR override will need to be sent. This can be done within Edit F11&gt; TP Resend&gt; DUR. Any DUR Conflict codes that the insurance rejected for (DD in screenshot above) will automatically populate the first line in the DUR tab.The pharmacy must then populate the Intervention Code, Outcome Code, and Level of Effort. If there were multiple DUR Conflict Codes in the rejection, the same number of DUR tabs will need to be populated with overrides - regardless of if they are duplicates.]</td>\n",
       "      <td>1.0</td>\n",
       "      <td>0.764595</td>\n",
       "      <td>0.0</td>\n",
       "      <td>0.384615</td>\n",
       "    </tr>\n",
       "    <tr>\n",
       "      <th>2</th>\n",
       "      <td>Explain about Claim Rejection code 12?</td>\n",
       "      <td>[Rejection\\tCode\\t12\\t Updated 1 year ago  FollowNot yet followed by anyone    This article is a guide to assist in the resolution of third party rejection code 12.    Rejection: Code 12    Message: M/I Place of Service              Field C7    Code C7 means that the claim is rejecting because the place of service is invalid or not sending.  The place of service is set on the Patient F4 screen&gt; Insurance tab&gt; Place of Service (C7)  field.             To resolve: verify the correct place of service is selected. Then, go to Cardholder Information&gt;  Edit Co&gt; Claim Sending Setup&gt; Segment 1&gt; Make sure the \"Do Not Send Place of Service\"  option is not checked. (If checked, the place of service field will not send on the claim).                    If the reject 12 continues after verifying th...</td>\n",
       "      <td>Rejection code 12 indicates an issue with the place of service field on the claim. Specifically:\\n\\n- Code 12 means the place of service is invalid or not being sent correctly on the claim. \\n\\n- The place of service is set on the patient insurance tab. \\n\\n- To resolve, verify the correct place of service is selected. \\n\\n- Also check the claim sending setup to ensure \"Do not send place of service\" is not checked, as that would prevent it from transmitting.\\n\\n- If it's still rejecting after verifying place of service, the pharmacy may need to contact the insurance for further assistance.\\n\\nThe key things are that rejection 12 relates to an invalid or missing place of service field on the claim. The place of service needs to be correctly set up on the patient insurance information a...</td>\n",
       "      <td>[M/I Place of Service Field C7.Code C7 means that the claim is rejecting because the place of service is invalid or not sending. The place of service is set on the Patient F4 screen&gt; Insurance tab&gt; Place of Service (C7) field.]</td>\n",
       "      <td>1.0</td>\n",
       "      <td>0.657334</td>\n",
       "      <td>0.0</td>\n",
       "      <td>0.222222</td>\n",
       "    </tr>\n",
       "  </tbody>\n",
       "</table>\n",
       "</div>"
      ],
      "text/plain": [
       "                                                                    question  \\\n",
       "0              Give me the reason and resolution for my claims rejection 22?   \n",
       "1  What's the reason and resolution recommended for Claim rejection code 88?   \n",
       "2                                     Explain about Claim Rejection code 12?   \n",
       "\n",
       "                                                                                                                                                                                                                                                                                                                                                                                                                                                                                                                                                                                                                                                                                                                                                                                                                          contexts  \\\n",
       "0  [If the claim continues to reject, make sure the DUR Conflict codes have not changed or a new  Conflict code has been added. (For example: DD DD TD on the first rejection and the latest  rejection shows DD DD TD DC.) If DUR overrides transmitting (can be found in TP Detail>  Claim Detail> Segment 8) match all DUR Conflict codes being received, refer the pharmacy to  contact the insurance for additional information on what DUR codes they are looking for.    For additional questions or information contact Computer-Rx Customer Support at (800) 647- 5288., Rejection\\tCode\\t22\\t This article is a guide to assist in the resolution of third party rejection code 22.    Rejection: Code 22    Message: M/I Dispense As Written (DAW)/ Product Selection Code     Field D8    WinRx defaults to DAW of ...   \n",
       "1  [Rejection\\tCode\\t88\\t This article is a guide to assist in the resolution of third party rejection code 88.    Rejection: Code 88    Message: DUR Reject Error             Fields D1, D7    Code 88 means that DUR override codes are needed or additional DUR override codes are  necessary.          Question: How do you send a DUR override?    HELP: If a plan rejects for a DUR (such as DD above), a DUR override will need to be sent.  This can be done within Edit F11> TP Resend> DUR. Any DUR Conflict codes that the  insurance rejected for (DD in screenshot above) will automatically populate the first line in the  DUR tab. The pharmacy must then populate the Intervention Code, Outcome Code, and Level of  Effort. If there were multiple DUR Conflict Codes in the rejection, the same number of  D...   \n",
       "2  [Rejection\\tCode\\t12\\t Updated 1 year ago  FollowNot yet followed by anyone    This article is a guide to assist in the resolution of third party rejection code 12.    Rejection: Code 12    Message: M/I Place of Service              Field C7    Code C7 means that the claim is rejecting because the place of service is invalid or not sending.  The place of service is set on the Patient F4 screen> Insurance tab> Place of Service (C7)  field.             To resolve: verify the correct place of service is selected. Then, go to Cardholder Information>  Edit Co> Claim Sending Setup> Segment 1> Make sure the \"Do Not Send Place of Service\"  option is not checked. (If checked, the place of service field will not send on the claim).                    If the reject 12 continues after verifying th...   \n",
       "\n",
       "                                                                                                                                                                                                                                                                                                                                                                                                                                                                                                                                                                                                                                                                                                                                                                                                                            answer  \\\n",
       "0                                                                                                                                                                                                 Rejection code 22 indicates an issue with the Dispense As Written (DAW) or Product Selection Code in field D8 of the claim. \\n\\nThe resolution is to:\\n\\n1. Go to Edit Rx > TP Detail > Claim Detail > Segment 7 and verify the DAW is correct. \\n\\n2. If needed, change the DAW by going to the Edit Rx screen. \\n\\n3. Verify the DAW is set up properly in the Drug screen (F5 screen) Pricing tab.\\n\\n4. Resend the prescription to the insurance after making any corrections. \\n\\nIf the DAW is already correct, verify it is set up properly in the insurance claim sending setup. Then resend the claim to the insurance.   \n",
       "1   The reason for claim rejection code 88 is that DUR (Drug Utilization Review) override codes are needed or additional DUR override codes are necessary. \\n\\nThe resolution recommended is:\\n\\n1. Send a DUR override by going to Edit F11 > TP Resend > DUR. Any DUR Conflict codes that the insurance rejected will automatically populate in the DUR tab. \\n\\n2. Populate the Intervention Code, Outcome Code, and Level of Effort in the DUR tab. If there were multiple DUR Conflict Codes in the rejection, populate overrides in the same number of DUR tabs.\\n\\n3. Make sure the DUR Conflict codes have not changed or a new Conflict code has been added in subsequent rejections. \\n\\n4. If the claim continues to reject after sending DUR overrides, refer the pharmacy to contact the insurance for additional ...   \n",
       "2   Rejection code 12 indicates an issue with the place of service field on the claim. Specifically:\\n\\n- Code 12 means the place of service is invalid or not being sent correctly on the claim. \\n\\n- The place of service is set on the patient insurance tab. \\n\\n- To resolve, verify the correct place of service is selected. \\n\\n- Also check the claim sending setup to ensure \"Do not send place of service\" is not checked, as that would prevent it from transmitting.\\n\\n- If it's still rejecting after verifying place of service, the pharmacy may need to contact the insurance for further assistance.\\n\\nThe key things are that rejection 12 relates to an invalid or missing place of service field on the claim. The place of service needs to be correctly set up on the patient insurance information a...   \n",
       "\n",
       "                                                                                                                                                                                                                                                                                                                                                                                                                                                                                                                                                                          ground_truths  \\\n",
       "0                                                                                                                                                                                                                                                                                                                                                            [M/I Dispense As Written (DAW)/ Product Selection Code-Field D8.To resolve, go to Edit Rx> TP Detail> Claim Detail> Segment 7 and verify the Dispense As Written (Field D8). To change the DAW, go to the Edit Rx screen.]   \n",
       "1  [DUR Reject Error Fields D1, D7.If a plan rejects for a DUR (such as DD above), a DUR override will need to be sent. This can be done within Edit F11> TP Resend> DUR. Any DUR Conflict codes that the insurance rejected for (DD in screenshot above) will automatically populate the first line in the DUR tab.The pharmacy must then populate the Intervention Code, Outcome Code, and Level of Effort. If there were multiple DUR Conflict Codes in the rejection, the same number of DUR tabs will need to be populated with overrides - regardless of if they are duplicates.]   \n",
       "2                                                                                                                                                                                                                                                                                                                                                   [M/I Place of Service Field C7.Code C7 means that the claim is rejecting because the place of service is invalid or not sending. The place of service is set on the Patient F4 screen> Insurance tab> Place of Service (C7) field.]   \n",
       "\n",
       "   faithfulness  answer_relevancy  context_precision  context_recall  \n",
       "0           1.0          0.587996                0.0        0.333333  \n",
       "1           1.0          0.764595                0.0        0.384615  \n",
       "2           1.0          0.657334                0.0        0.222222  "
      ]
     },
     "execution_count": 12,
     "metadata": {},
     "output_type": "execute_result"
    }
   ],
   "source": [
    "import pandas as pd\n",
    "pd.options.display.max_colwidth = 800\n",
    "df"
   ]
  },
  {
   "cell_type": "markdown",
   "metadata": {},
   "source": [
    "> Note: Please note the scores above gives a relative idea on the performance of your RAG application and should be used with caution and not as standalone scores. Also note, that we have used only 5 question/answer pairs for evaluation, as best practice, you should use enough data to cover different aspects of your document for evaluating model.\n",
    "\n",
    "Based on the scores, you can review other components of your RAG workflow to further optimize the scores, few recommended options are to review your chunking strategy, prompt instructions, adding more numberOfResults for additional context and so on. "
   ]
  },
  {
   "cell_type": "code",
   "execution_count": null,
   "metadata": {},
   "outputs": [],
   "source": []
  }
 ],
 "metadata": {
  "availableInstances": [
   {
    "_defaultOrder": 0,
    "_isFastLaunch": true,
    "category": "General purpose",
    "gpuNum": 0,
    "hideHardwareSpecs": false,
    "memoryGiB": 4,
    "name": "ml.t3.medium",
    "vcpuNum": 2
   },
   {
    "_defaultOrder": 1,
    "_isFastLaunch": false,
    "category": "General purpose",
    "gpuNum": 0,
    "hideHardwareSpecs": false,
    "memoryGiB": 8,
    "name": "ml.t3.large",
    "vcpuNum": 2
   },
   {
    "_defaultOrder": 2,
    "_isFastLaunch": false,
    "category": "General purpose",
    "gpuNum": 0,
    "hideHardwareSpecs": false,
    "memoryGiB": 16,
    "name": "ml.t3.xlarge",
    "vcpuNum": 4
   },
   {
    "_defaultOrder": 3,
    "_isFastLaunch": false,
    "category": "General purpose",
    "gpuNum": 0,
    "hideHardwareSpecs": false,
    "memoryGiB": 32,
    "name": "ml.t3.2xlarge",
    "vcpuNum": 8
   },
   {
    "_defaultOrder": 4,
    "_isFastLaunch": true,
    "category": "General purpose",
    "gpuNum": 0,
    "hideHardwareSpecs": false,
    "memoryGiB": 8,
    "name": "ml.m5.large",
    "vcpuNum": 2
   },
   {
    "_defaultOrder": 5,
    "_isFastLaunch": false,
    "category": "General purpose",
    "gpuNum": 0,
    "hideHardwareSpecs": false,
    "memoryGiB": 16,
    "name": "ml.m5.xlarge",
    "vcpuNum": 4
   },
   {
    "_defaultOrder": 6,
    "_isFastLaunch": false,
    "category": "General purpose",
    "gpuNum": 0,
    "hideHardwareSpecs": false,
    "memoryGiB": 32,
    "name": "ml.m5.2xlarge",
    "vcpuNum": 8
   },
   {
    "_defaultOrder": 7,
    "_isFastLaunch": false,
    "category": "General purpose",
    "gpuNum": 0,
    "hideHardwareSpecs": false,
    "memoryGiB": 64,
    "name": "ml.m5.4xlarge",
    "vcpuNum": 16
   },
   {
    "_defaultOrder": 8,
    "_isFastLaunch": false,
    "category": "General purpose",
    "gpuNum": 0,
    "hideHardwareSpecs": false,
    "memoryGiB": 128,
    "name": "ml.m5.8xlarge",
    "vcpuNum": 32
   },
   {
    "_defaultOrder": 9,
    "_isFastLaunch": false,
    "category": "General purpose",
    "gpuNum": 0,
    "hideHardwareSpecs": false,
    "memoryGiB": 192,
    "name": "ml.m5.12xlarge",
    "vcpuNum": 48
   },
   {
    "_defaultOrder": 10,
    "_isFastLaunch": false,
    "category": "General purpose",
    "gpuNum": 0,
    "hideHardwareSpecs": false,
    "memoryGiB": 256,
    "name": "ml.m5.16xlarge",
    "vcpuNum": 64
   },
   {
    "_defaultOrder": 11,
    "_isFastLaunch": false,
    "category": "General purpose",
    "gpuNum": 0,
    "hideHardwareSpecs": false,
    "memoryGiB": 384,
    "name": "ml.m5.24xlarge",
    "vcpuNum": 96
   },
   {
    "_defaultOrder": 12,
    "_isFastLaunch": false,
    "category": "General purpose",
    "gpuNum": 0,
    "hideHardwareSpecs": false,
    "memoryGiB": 8,
    "name": "ml.m5d.large",
    "vcpuNum": 2
   },
   {
    "_defaultOrder": 13,
    "_isFastLaunch": false,
    "category": "General purpose",
    "gpuNum": 0,
    "hideHardwareSpecs": false,
    "memoryGiB": 16,
    "name": "ml.m5d.xlarge",
    "vcpuNum": 4
   },
   {
    "_defaultOrder": 14,
    "_isFastLaunch": false,
    "category": "General purpose",
    "gpuNum": 0,
    "hideHardwareSpecs": false,
    "memoryGiB": 32,
    "name": "ml.m5d.2xlarge",
    "vcpuNum": 8
   },
   {
    "_defaultOrder": 15,
    "_isFastLaunch": false,
    "category": "General purpose",
    "gpuNum": 0,
    "hideHardwareSpecs": false,
    "memoryGiB": 64,
    "name": "ml.m5d.4xlarge",
    "vcpuNum": 16
   },
   {
    "_defaultOrder": 16,
    "_isFastLaunch": false,
    "category": "General purpose",
    "gpuNum": 0,
    "hideHardwareSpecs": false,
    "memoryGiB": 128,
    "name": "ml.m5d.8xlarge",
    "vcpuNum": 32
   },
   {
    "_defaultOrder": 17,
    "_isFastLaunch": false,
    "category": "General purpose",
    "gpuNum": 0,
    "hideHardwareSpecs": false,
    "memoryGiB": 192,
    "name": "ml.m5d.12xlarge",
    "vcpuNum": 48
   },
   {
    "_defaultOrder": 18,
    "_isFastLaunch": false,
    "category": "General purpose",
    "gpuNum": 0,
    "hideHardwareSpecs": false,
    "memoryGiB": 256,
    "name": "ml.m5d.16xlarge",
    "vcpuNum": 64
   },
   {
    "_defaultOrder": 19,
    "_isFastLaunch": false,
    "category": "General purpose",
    "gpuNum": 0,
    "hideHardwareSpecs": false,
    "memoryGiB": 384,
    "name": "ml.m5d.24xlarge",
    "vcpuNum": 96
   },
   {
    "_defaultOrder": 20,
    "_isFastLaunch": false,
    "category": "General purpose",
    "gpuNum": 0,
    "hideHardwareSpecs": true,
    "memoryGiB": 0,
    "name": "ml.geospatial.interactive",
    "supportedImageNames": [
     "sagemaker-geospatial-v1-0"
    ],
    "vcpuNum": 0
   },
   {
    "_defaultOrder": 21,
    "_isFastLaunch": true,
    "category": "Compute optimized",
    "gpuNum": 0,
    "hideHardwareSpecs": false,
    "memoryGiB": 4,
    "name": "ml.c5.large",
    "vcpuNum": 2
   },
   {
    "_defaultOrder": 22,
    "_isFastLaunch": false,
    "category": "Compute optimized",
    "gpuNum": 0,
    "hideHardwareSpecs": false,
    "memoryGiB": 8,
    "name": "ml.c5.xlarge",
    "vcpuNum": 4
   },
   {
    "_defaultOrder": 23,
    "_isFastLaunch": false,
    "category": "Compute optimized",
    "gpuNum": 0,
    "hideHardwareSpecs": false,
    "memoryGiB": 16,
    "name": "ml.c5.2xlarge",
    "vcpuNum": 8
   },
   {
    "_defaultOrder": 24,
    "_isFastLaunch": false,
    "category": "Compute optimized",
    "gpuNum": 0,
    "hideHardwareSpecs": false,
    "memoryGiB": 32,
    "name": "ml.c5.4xlarge",
    "vcpuNum": 16
   },
   {
    "_defaultOrder": 25,
    "_isFastLaunch": false,
    "category": "Compute optimized",
    "gpuNum": 0,
    "hideHardwareSpecs": false,
    "memoryGiB": 72,
    "name": "ml.c5.9xlarge",
    "vcpuNum": 36
   },
   {
    "_defaultOrder": 26,
    "_isFastLaunch": false,
    "category": "Compute optimized",
    "gpuNum": 0,
    "hideHardwareSpecs": false,
    "memoryGiB": 96,
    "name": "ml.c5.12xlarge",
    "vcpuNum": 48
   },
   {
    "_defaultOrder": 27,
    "_isFastLaunch": false,
    "category": "Compute optimized",
    "gpuNum": 0,
    "hideHardwareSpecs": false,
    "memoryGiB": 144,
    "name": "ml.c5.18xlarge",
    "vcpuNum": 72
   },
   {
    "_defaultOrder": 28,
    "_isFastLaunch": false,
    "category": "Compute optimized",
    "gpuNum": 0,
    "hideHardwareSpecs": false,
    "memoryGiB": 192,
    "name": "ml.c5.24xlarge",
    "vcpuNum": 96
   },
   {
    "_defaultOrder": 29,
    "_isFastLaunch": true,
    "category": "Accelerated computing",
    "gpuNum": 1,
    "hideHardwareSpecs": false,
    "memoryGiB": 16,
    "name": "ml.g4dn.xlarge",
    "vcpuNum": 4
   },
   {
    "_defaultOrder": 30,
    "_isFastLaunch": false,
    "category": "Accelerated computing",
    "gpuNum": 1,
    "hideHardwareSpecs": false,
    "memoryGiB": 32,
    "name": "ml.g4dn.2xlarge",
    "vcpuNum": 8
   },
   {
    "_defaultOrder": 31,
    "_isFastLaunch": false,
    "category": "Accelerated computing",
    "gpuNum": 1,
    "hideHardwareSpecs": false,
    "memoryGiB": 64,
    "name": "ml.g4dn.4xlarge",
    "vcpuNum": 16
   },
   {
    "_defaultOrder": 32,
    "_isFastLaunch": false,
    "category": "Accelerated computing",
    "gpuNum": 1,
    "hideHardwareSpecs": false,
    "memoryGiB": 128,
    "name": "ml.g4dn.8xlarge",
    "vcpuNum": 32
   },
   {
    "_defaultOrder": 33,
    "_isFastLaunch": false,
    "category": "Accelerated computing",
    "gpuNum": 4,
    "hideHardwareSpecs": false,
    "memoryGiB": 192,
    "name": "ml.g4dn.12xlarge",
    "vcpuNum": 48
   },
   {
    "_defaultOrder": 34,
    "_isFastLaunch": false,
    "category": "Accelerated computing",
    "gpuNum": 1,
    "hideHardwareSpecs": false,
    "memoryGiB": 256,
    "name": "ml.g4dn.16xlarge",
    "vcpuNum": 64
   },
   {
    "_defaultOrder": 35,
    "_isFastLaunch": false,
    "category": "Accelerated computing",
    "gpuNum": 1,
    "hideHardwareSpecs": false,
    "memoryGiB": 61,
    "name": "ml.p3.2xlarge",
    "vcpuNum": 8
   },
   {
    "_defaultOrder": 36,
    "_isFastLaunch": false,
    "category": "Accelerated computing",
    "gpuNum": 4,
    "hideHardwareSpecs": false,
    "memoryGiB": 244,
    "name": "ml.p3.8xlarge",
    "vcpuNum": 32
   },
   {
    "_defaultOrder": 37,
    "_isFastLaunch": false,
    "category": "Accelerated computing",
    "gpuNum": 8,
    "hideHardwareSpecs": false,
    "memoryGiB": 488,
    "name": "ml.p3.16xlarge",
    "vcpuNum": 64
   },
   {
    "_defaultOrder": 38,
    "_isFastLaunch": false,
    "category": "Accelerated computing",
    "gpuNum": 8,
    "hideHardwareSpecs": false,
    "memoryGiB": 768,
    "name": "ml.p3dn.24xlarge",
    "vcpuNum": 96
   },
   {
    "_defaultOrder": 39,
    "_isFastLaunch": false,
    "category": "Memory Optimized",
    "gpuNum": 0,
    "hideHardwareSpecs": false,
    "memoryGiB": 16,
    "name": "ml.r5.large",
    "vcpuNum": 2
   },
   {
    "_defaultOrder": 40,
    "_isFastLaunch": false,
    "category": "Memory Optimized",
    "gpuNum": 0,
    "hideHardwareSpecs": false,
    "memoryGiB": 32,
    "name": "ml.r5.xlarge",
    "vcpuNum": 4
   },
   {
    "_defaultOrder": 41,
    "_isFastLaunch": false,
    "category": "Memory Optimized",
    "gpuNum": 0,
    "hideHardwareSpecs": false,
    "memoryGiB": 64,
    "name": "ml.r5.2xlarge",
    "vcpuNum": 8
   },
   {
    "_defaultOrder": 42,
    "_isFastLaunch": false,
    "category": "Memory Optimized",
    "gpuNum": 0,
    "hideHardwareSpecs": false,
    "memoryGiB": 128,
    "name": "ml.r5.4xlarge",
    "vcpuNum": 16
   },
   {
    "_defaultOrder": 43,
    "_isFastLaunch": false,
    "category": "Memory Optimized",
    "gpuNum": 0,
    "hideHardwareSpecs": false,
    "memoryGiB": 256,
    "name": "ml.r5.8xlarge",
    "vcpuNum": 32
   },
   {
    "_defaultOrder": 44,
    "_isFastLaunch": false,
    "category": "Memory Optimized",
    "gpuNum": 0,
    "hideHardwareSpecs": false,
    "memoryGiB": 384,
    "name": "ml.r5.12xlarge",
    "vcpuNum": 48
   },
   {
    "_defaultOrder": 45,
    "_isFastLaunch": false,
    "category": "Memory Optimized",
    "gpuNum": 0,
    "hideHardwareSpecs": false,
    "memoryGiB": 512,
    "name": "ml.r5.16xlarge",
    "vcpuNum": 64
   },
   {
    "_defaultOrder": 46,
    "_isFastLaunch": false,
    "category": "Memory Optimized",
    "gpuNum": 0,
    "hideHardwareSpecs": false,
    "memoryGiB": 768,
    "name": "ml.r5.24xlarge",
    "vcpuNum": 96
   },
   {
    "_defaultOrder": 47,
    "_isFastLaunch": false,
    "category": "Accelerated computing",
    "gpuNum": 1,
    "hideHardwareSpecs": false,
    "memoryGiB": 16,
    "name": "ml.g5.xlarge",
    "vcpuNum": 4
   },
   {
    "_defaultOrder": 48,
    "_isFastLaunch": false,
    "category": "Accelerated computing",
    "gpuNum": 1,
    "hideHardwareSpecs": false,
    "memoryGiB": 32,
    "name": "ml.g5.2xlarge",
    "vcpuNum": 8
   },
   {
    "_defaultOrder": 49,
    "_isFastLaunch": false,
    "category": "Accelerated computing",
    "gpuNum": 1,
    "hideHardwareSpecs": false,
    "memoryGiB": 64,
    "name": "ml.g5.4xlarge",
    "vcpuNum": 16
   },
   {
    "_defaultOrder": 50,
    "_isFastLaunch": false,
    "category": "Accelerated computing",
    "gpuNum": 1,
    "hideHardwareSpecs": false,
    "memoryGiB": 128,
    "name": "ml.g5.8xlarge",
    "vcpuNum": 32
   },
   {
    "_defaultOrder": 51,
    "_isFastLaunch": false,
    "category": "Accelerated computing",
    "gpuNum": 1,
    "hideHardwareSpecs": false,
    "memoryGiB": 256,
    "name": "ml.g5.16xlarge",
    "vcpuNum": 64
   },
   {
    "_defaultOrder": 52,
    "_isFastLaunch": false,
    "category": "Accelerated computing",
    "gpuNum": 4,
    "hideHardwareSpecs": false,
    "memoryGiB": 192,
    "name": "ml.g5.12xlarge",
    "vcpuNum": 48
   },
   {
    "_defaultOrder": 53,
    "_isFastLaunch": false,
    "category": "Accelerated computing",
    "gpuNum": 4,
    "hideHardwareSpecs": false,
    "memoryGiB": 384,
    "name": "ml.g5.24xlarge",
    "vcpuNum": 96
   },
   {
    "_defaultOrder": 54,
    "_isFastLaunch": false,
    "category": "Accelerated computing",
    "gpuNum": 8,
    "hideHardwareSpecs": false,
    "memoryGiB": 768,
    "name": "ml.g5.48xlarge",
    "vcpuNum": 192
   },
   {
    "_defaultOrder": 55,
    "_isFastLaunch": false,
    "category": "Accelerated computing",
    "gpuNum": 8,
    "hideHardwareSpecs": false,
    "memoryGiB": 1152,
    "name": "ml.p4d.24xlarge",
    "vcpuNum": 96
   },
   {
    "_defaultOrder": 56,
    "_isFastLaunch": false,
    "category": "Accelerated computing",
    "gpuNum": 8,
    "hideHardwareSpecs": false,
    "memoryGiB": 1152,
    "name": "ml.p4de.24xlarge",
    "vcpuNum": 96
   },
   {
    "_defaultOrder": 57,
    "_isFastLaunch": false,
    "category": "Accelerated computing",
    "gpuNum": 0,
    "hideHardwareSpecs": false,
    "memoryGiB": 32,
    "name": "ml.trn1.2xlarge",
    "vcpuNum": 8
   },
   {
    "_defaultOrder": 58,
    "_isFastLaunch": false,
    "category": "Accelerated computing",
    "gpuNum": 0,
    "hideHardwareSpecs": false,
    "memoryGiB": 512,
    "name": "ml.trn1.32xlarge",
    "vcpuNum": 128
   },
   {
    "_defaultOrder": 59,
    "_isFastLaunch": false,
    "category": "Accelerated computing",
    "gpuNum": 0,
    "hideHardwareSpecs": false,
    "memoryGiB": 512,
    "name": "ml.trn1n.32xlarge",
    "vcpuNum": 128
   }
  ],
  "instance_type": "ml.t3.medium",
  "kernelspec": {
   "display_name": "Python 3 (Data Science 3.0)",
   "language": "python",
   "name": "python3__SAGEMAKER_INTERNAL__arn:aws:sagemaker:us-west-2:236514542706:image/sagemaker-data-science-310-v1"
  },
  "language_info": {
   "codemirror_mode": {
    "name": "ipython",
    "version": 3
   },
   "file_extension": ".py",
   "mimetype": "text/x-python",
   "name": "python",
   "nbconvert_exporter": "python",
   "pygments_lexer": "ipython3",
   "version": "3.10.6"
  }
 },
 "nbformat": 4,
 "nbformat_minor": 4
}
